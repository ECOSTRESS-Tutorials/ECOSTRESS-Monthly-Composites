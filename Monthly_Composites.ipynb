{
 "cells": [
  {
   "cell_type": "markdown",
   "metadata": {},
   "source": [
    "# Creating Monthly Composites\n",
    "### ECOSTRESS Tutorials\n",
    "###### This code is to be used when you have a collection of images that you would like to make MONTHLY composites of. It works best if you have already cloud masked or QCed your images (See the cloud masking or QC tutorials). This code may be modified to create yearly composites, seasonal composites, etc. \n",
    "###### This code is written to create monthly composites of Land Surface Temperature (LST) files, but may be modified for use with other ECOSTRESS data products."
   ]
  },
  {
   "cell_type": "markdown",
   "metadata": {},
   "source": [
    "### Import Necessary Libraries"
   ]
  },
  {
   "cell_type": "code",
   "execution_count": null,
   "metadata": {},
   "outputs": [],
   "source": [
    "import os\n",
    "from os import makedirs\n",
    "import numpy as np\n",
    "import pandas as pd\n",
    "import rioxarray\n",
    "import rioxarray.merge\n",
    "from glob import glob\n",
    "from os.path import join, basename, splitext\n",
    "from datetime import datetime"
   ]
  },
  {
   "cell_type": "markdown",
   "metadata": {},
   "source": [
    "### Define Input and Output Locations, and List Files"
   ]
  },
  {
   "cell_type": "code",
   "execution_count": null,
   "metadata": {},
   "outputs": [],
   "source": [
    "#Define input and output folders\n",
    "input_directory = r\"Replace_this_text_with_folder_path\" \n",
    "output_directory = r\"Replace_this_text_with_folder_path\" \n",
    "#Ensure the output directory exists\n",
    "makedirs(output_directory, exist_ok=True)\n",
    "\n",
    "#Set aesthetics \n",
    "alpha = 0.7 # Sets the transparency of the image to 70%\n",
    "fig_width_px = 1080 # Defines the size of the figure\n",
    "fig_height_px = 720\n",
    "\n",
    "#Find all masked ST files in the input directory\n",
    "ST_masked_filenames = sorted(glob(join(input_directory, \"*_ST.tif\")))"
   ]
  },
  {
   "cell_type": "markdown",
   "metadata": {},
   "source": [
    "### Extract the Month and Year from Filenames and Group Them"
   ]
  },
  {
   "cell_type": "code",
   "execution_count": null,
   "metadata": {},
   "outputs": [],
   "source": [
    "#Creates an empty dictionary to store groups of files\n",
    "file_groups = {}\n",
    "#Iterates through each file name\n",
    "for filename in ST_masked_filenames:\n",
    "    # Extract the datetime string from the filename\n",
    "    datetime_str = splitext(basename(filename))[0].split(\"_\")[-2]\n",
    "    #Transforms the datetime string into a datetime object\n",
    "    datetime_obj = datetime.strptime(datetime_str, \"%Y.%m.%d.%H.%M.%S\")\n",
    "        #Make sure the date format matches your input images. \n",
    "        #If you used our batch cloud mask or QC code, this date format should be correct.\n",
    "    #Format the datetime object to get a string of the month and year\n",
    "    month_year = datetime_obj.strftime(\"%Y-%m\")\n",
    "\n",
    "    #If the month and year value is not already in the dictionary ...\n",
    "    if month_year not in file_groups:\n",
    "        # ... add it as an empty list\n",
    "        file_groups[month_year] = []\n",
    "    #Add the current file name to the list for this month and year\n",
    "    file_groups[month_year].append(filename)"
   ]
  },
  {
   "cell_type": "markdown",
   "metadata": {},
   "source": [
    "### Create Median Composites for Every Month Group"
   ]
  },
  {
   "cell_type": "code",
   "execution_count": null,
   "metadata": {},
   "outputs": [],
   "source": [
    "#For each month group, loop through every file\n",
    "for month_year, files in file_groups.items():\n",
    "    #Open the rasters using rioxarray\n",
    "    ST_masked_rasters = [rioxarray.open_rasterio(filename).squeeze(\"band\", drop=True) for filename in files]\n",
    "    #Merge all the rasters into one array\n",
    "    ST_composite = rioxarray.merge.merge_arrays(ST_masked_rasters, nodata=np.nan)\n",
    "    #Calculate the median for each pixel\n",
    "    ST_composite.data = np.nanmedian(np.stack([raster.rio.reproject_match(ST_composite).data for raster in ST_masked_rasters]), axis=0)\n",
    "    #Replace 0s with NaN\n",
    "    ST_composite.data = np.where(ST_composite.data == 0, np.nan, ST_composite.data)\n",
    "\n",
    "    #Create an output file path by combining the output folder location with a file name\n",
    "    output_file_path = join(output_directory, f\"File_name_{month_year}_Median.tif\") #Can rename if needed!\n",
    "    #Save the Composite Raster\n",
    "    ST_composite.rio.to_raster(output_file_path)\n",
    "    print(f\"Saved composite for {month_year}\")\n",
    "    "
   ]
  },
  {
   "cell_type": "code",
   "execution_count": null,
   "metadata": {},
   "outputs": [],
   "source": []
  }
 ],
 "metadata": {
  "kernelspec": {
   "display_name": "ECOSTRESS",
   "language": "python",
   "name": "python3"
  },
  "language_info": {
   "codemirror_mode": {
    "name": "ipython",
    "version": 3
   },
   "file_extension": ".py",
   "mimetype": "text/x-python",
   "name": "python",
   "nbconvert_exporter": "python",
   "pygments_lexer": "ipython3",
   "version": "3.11.9"
  }
 },
 "nbformat": 4,
 "nbformat_minor": 2
}
